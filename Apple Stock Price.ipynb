{
 "cells": [
  {
   "cell_type": "markdown",
   "id": "d99ff674",
   "metadata": {},
   "source": [
    "# Project: Apple Stock Price Prediction"
   ]
  },
  {
   "cell_type": "markdown",
   "id": "a518914e",
   "metadata": {},
   "source": [
    "> The challenge of this project is to accurately predict the future closing value of a given stock across a given period of time in the future"
   ]
  },
  {
   "cell_type": "markdown",
   "id": "c42aca0b",
   "metadata": {},
   "source": [
    "**Data Dictionarty**\n",
    "\n",
    "1. Date\n",
    "2. Open - It is the price at which the financial security opens in the market when trading begins\n",
    "3. High - The high is the highest price at which a stock traded during a period.\n",
    "4. Low - Low is the minimum price of a stock in a period\n",
    "5. Close - Closing price generally refers to the last price at which a stock trades during a regular trading session\n",
    "6. Adj Close - The adjusted closing price amends a stock's closing price to reflect that stock's value after accounting for any corporate actions. It is often used when examining historical returns or doing a detailed analysis of past performance.\n",
    "7. Volume - Volume measures the number of shares traded in a stock or contracts traded in futures or options."
   ]
  },
  {
   "cell_type": "markdown",
   "id": "85d63bf7",
   "metadata": {},
   "source": [
    "## Geting Started"
   ]
  },
  {
   "cell_type": "code",
   "execution_count": null,
   "id": "f5c4f0f9",
   "metadata": {},
   "outputs": [],
   "source": [
    "import pandas as pd\n",
    "import numpy as np\n",
    "import matplotlib.pyplot as plt\n",
    "%matplotlib inline\n",
    "import seaborn as sns"
   ]
  },
  {
   "cell_type": "markdown",
   "id": "018c82ba",
   "metadata": {},
   "source": [
    "## Get the data"
   ]
  },
  {
   "cell_type": "code",
   "execution_count": null,
   "id": "b3f91090",
   "metadata": {},
   "outputs": [],
   "source": [
    "stocks = pd.read_csv(\"AAPL_stock.csv\")\n",
    "stocks.head()"
   ]
  },
  {
   "cell_type": "code",
   "execution_count": null,
   "id": "f2a6b20e",
   "metadata": {},
   "outputs": [],
   "source": [
    "stocks.info()"
   ]
  },
  {
   "cell_type": "code",
   "execution_count": null,
   "id": "fe0db035",
   "metadata": {},
   "outputs": [],
   "source": [
    "stocks.isna().sum()"
   ]
  },
  {
   "cell_type": "code",
   "execution_count": null,
   "id": "e39eb1a5",
   "metadata": {},
   "outputs": [],
   "source": [
    "stocks['Date'] = pd.to_datetime(stocks['Date'])"
   ]
  },
  {
   "cell_type": "code",
   "execution_count": null,
   "id": "24ee7b1e",
   "metadata": {},
   "outputs": [],
   "source": [
    "print(f'Dataframe contains stock prices between {stocks.Date.min()} to {stocks.Date.max()}')\n",
    "print(f'Total Days = {(stocks.Date.max() - stocks.Date.min()).days} days')"
   ]
  },
  {
   "cell_type": "code",
   "execution_count": null,
   "id": "cce64077",
   "metadata": {},
   "outputs": [],
   "source": [
    "print(f'The maximum price of the stocks is:{stocks.Close.max()}')\n",
    "print(f'The minimum price of the stocks is:{stocks.Close.min()}')"
   ]
  },
  {
   "cell_type": "code",
   "execution_count": null,
   "id": "728b1be8",
   "metadata": {},
   "outputs": [],
   "source": [
    "stocks.describe()"
   ]
  },
  {
   "cell_type": "code",
   "execution_count": null,
   "id": "5ebcb99d",
   "metadata": {},
   "outputs": [],
   "source": [
    "plt.style.use('fivethirtyeight')\n",
    "fig, ax = plt.subplots(figsize=(10,6))\n",
    "ax.boxplot(stocks[['Open','High','Low','Close','Adj Close']]);"
   ]
  },
  {
   "cell_type": "code",
   "execution_count": null,
   "id": "7d1860fd",
   "metadata": {},
   "outputs": [],
   "source": [
    "fig,ax = plt.subplots(figsize=(20,10))\n",
    "ax.plot(stocks['Date'],stocks['Close'],color='salmon');\n",
    "ax.set(title='Stock Prices of Apple',\n",
    "       xlabel='Date',\n",
    "       ylabel='Price');"
   ]
  },
  {
   "cell_type": "code",
   "execution_count": null,
   "id": "acf597d3",
   "metadata": {},
   "outputs": [],
   "source": [
    "corr_matrix = stocks.corr()\n",
    "corr_matrix"
   ]
  },
  {
   "cell_type": "code",
   "execution_count": null,
   "id": "e5a8c490",
   "metadata": {},
   "outputs": [],
   "source": [
    "plt.figure(figsize=(8,6))\n",
    "sns.heatmap(corr_matrix,\n",
    "            annot=True, \n",
    "            linewidths=0.5, \n",
    "            fmt= \".4f\", \n",
    "            cmap=\"Blues\");"
   ]
  },
  {
   "cell_type": "code",
   "execution_count": null,
   "id": "1986160e",
   "metadata": {},
   "outputs": [],
   "source": [
    "stocks2 = stocks.copy()\n",
    "stocks2['open-high'] = stocks['Open']-stocks['High']\n",
    "stocks2['open-low'] = stocks['Open'] - stocks['Low']\n",
    "stocks2['close-high'] = stocks['Close']-stocks['High']\n",
    "stocks2['close-low'] = stocks['Close'] - stocks['Low']\n",
    "stocks2['high-low'] = stocks['High'] - stocks['Low']\n",
    "stocks2['open-close'] = stocks['Open'] - stocks['Close']\n",
    "stocks2 = stocks2.drop(['Open','High','Low','Close', 'Adj Close'],axis=1)\n",
    "stocks2.head()"
   ]
  },
  {
   "cell_type": "code",
   "execution_count": null,
   "id": "4e1c9c72",
   "metadata": {},
   "outputs": [],
   "source": [
    "plt.figure(figsize=(8,6))\n",
    "sns.heatmap(stocks2.corr(),cmap='Blues',annot=True)"
   ]
  },
  {
   "cell_type": "code",
   "execution_count": null,
   "id": "e58caab1",
   "metadata": {},
   "outputs": [],
   "source": [
    "stocks2= stocks.copy()\n",
    "stocks2['Day'] = stocks['Date'].dt.day_name()\n",
    "stocks2['Month'] = stocks['Date'].dt.month\n",
    "stocks2['Year'] = stocks['Date'].dt.year\n",
    "stocks2.head()"
   ]
  },
  {
   "cell_type": "code",
   "execution_count": null,
   "id": "d9120aa6",
   "metadata": {},
   "outputs": [],
   "source": [
    "stocks2019 = stocks2[stocks2.Year==2019]\n",
    "stocks2020 = stocks2[stocks2.Year==2020]\n",
    "\n",
    "fig,(ax0,ax1) = plt.subplots(ncols=1,nrows=2,figsize=(20,20))\n",
    "\n",
    "ax0.plot(stocks2020['Date'],stocks2020['Close'],color='salmon');\n",
    "ax1.plot(stocks2019['Date'],stocks2019['Close'],color='lightblue')\n",
    "\n",
    "ax0.set(title='Stock Prices of Apple in 2020',\n",
    "       ylabel='Price');\n",
    "ax1.set(title='Stock Prices of Apple in 2019',\n",
    "        xlabel='Date',\n",
    "        ylabel='Price');\n",
    "\n",
    "fig.suptitle('Comparison of stock prices in 2019 and 2020',\n",
    "            fontsize=24,\n",
    "             fontweight='bold');"
   ]
  },
  {
   "cell_type": "code",
   "execution_count": null,
   "id": "f4cbfe0d",
   "metadata": {},
   "outputs": [],
   "source": [
    "result = stocks2.groupby(['Year','Month'])"
   ]
  },
  {
   "cell_type": "code",
   "execution_count": null,
   "id": "19bc7c3e",
   "metadata": {},
   "outputs": [],
   "source": [
    "openPrice = pd.DataFrame(result['Open'].apply(lambda row:row.iloc[0]).reset_index())\n",
    "openPrice.head()"
   ]
  },
  {
   "cell_type": "code",
   "execution_count": null,
   "id": "3c9b1728",
   "metadata": {},
   "outputs": [],
   "source": [
    "closePrice = pd.DataFrame(result['Close'].apply(lambda row:row.iloc[-1]).reset_index())\n",
    "closePrice.head()"
   ]
  },
  {
   "cell_type": "code",
   "execution_count": null,
   "id": "514bd168",
   "metadata": {},
   "outputs": [],
   "source": [
    "diff = pd.merge(openPrice,closePrice,how='left',on=['Year','Month'])\n",
    "diff['return'] = 100*(diff.Close - diff.Open)/diff.Open\n",
    "diff=diff[1:493]\n",
    "diff.head()"
   ]
  },
  {
   "cell_type": "code",
   "execution_count": null,
   "id": "6c48a884",
   "metadata": {},
   "outputs": [],
   "source": [
    "diff = diff.pivot(index='Year',columns='Month',values='return')\n",
    "diff.columns = ['Jan','Feb','Mar','Apr','May','Jun','Jul','Aug','Sep','Oct','Nov','Dec']\n",
    "diff.head()"
   ]
  },
  {
   "cell_type": "code",
   "execution_count": null,
   "id": "f5af7d17",
   "metadata": {},
   "outputs": [],
   "source": [
    "plt.figure(figsize=(19,22))\n",
    "sns.heatmap(diff,\n",
    "            annot=True, \n",
    "            linewidths=0.5, \n",
    "            fmt= \".2f\", \n",
    "            cmap=\"YlGnBu\");"
   ]
  },
  {
   "cell_type": "code",
   "execution_count": null,
   "id": "a5108eb5",
   "metadata": {},
   "outputs": [],
   "source": [
    "#Building the regression model\n",
    "from sklearn.model_selection import train_test_split\n",
    "\n",
    "#For Preprocessing\n",
    "from sklearn.preprocessing import MinMaxScaler\n",
    "from sklearn.preprocessing import StandardScaler\n",
    "\n",
    "#For model evaluation `\n",
    "from sklearn.metrics import mean_squared_error as mse\n",
    "from sklearn.metrics import r2_score"
   ]
  },
  {
   "cell_type": "code",
   "execution_count": null,
   "id": "4b8c0696",
   "metadata": {},
   "outputs": [],
   "source": [
    "X = np.array(stocks.index).reshape(-1,1)\n",
    "y = stocks.Close\n",
    "X_train,X_test,y_train,y_test = train_test_split(X,y,test_size=0.2)"
   ]
  },
  {
   "cell_type": "code",
   "execution_count": null,
   "id": "0920ec89",
   "metadata": {},
   "outputs": [],
   "source": [
    "#Importing the models\n",
    "from sklearn.linear_model import LinearRegression\n",
    "from sklearn.ensemble import RandomForestRegressor"
   ]
  },
  {
   "cell_type": "code",
   "execution_count": null,
   "id": "d224c638",
   "metadata": {},
   "outputs": [],
   "source": [
    "#Put models in a dictionary\n",
    "model = {\"Linear Regression\": LinearRegression(),\n",
    "        \"Random Forest\": RandomForestRegressor()}\n",
    "\n",
    "# Create function to fit and score models\n",
    "def fit_and_score(models, X_train, X_test, y_train, y_test):\n",
    "    \"\"\"\n",
    "    Fits and evaluates given machine learning models.\n",
    "    models : a dict of different Scikit-Learn machine learning models\n",
    "    X_train : training data\n",
    "    X_test : testing data\n",
    "    y_train : labels assosciated with training data\n",
    "    y_test : labels assosciated with test data\n",
    "    \"\"\"\n",
    "    \n",
    "    # Random seed for reproducible results\n",
    "    np.random.seed(42)\n",
    "    # Make a list to keep model scores\n",
    "    model_scores = {}\n",
    "    # Loop through models\n",
    "    for name, model in models.items():\n",
    "        # Fit the model to the data\n",
    "        model.fit(X_train, y_train)\n",
    "        # Evaluate the model and append its score to model_scores\n",
    "        model_scores[name] = model.score(X_test, y_test)\n",
    "    return model_scores"
   ]
  },
  {
   "cell_type": "code",
   "execution_count": null,
   "id": "2f7f8a87",
   "metadata": {},
   "outputs": [],
   "source": [
    "model_scores = fit_and_score(model,X_train,X_test,y_train,y_test)"
   ]
  },
  {
   "cell_type": "code",
   "execution_count": null,
   "id": "fdaa2ac6",
   "metadata": {},
   "outputs": [],
   "source": [
    "model_scores"
   ]
  },
  {
   "cell_type": "code",
   "execution_count": null,
   "id": "a38afdcd",
   "metadata": {},
   "outputs": [],
   "source": [
    "model_compare = pd.DataFrame(model_scores,index =['r2_score'])\n",
    "model_compare"
   ]
  },
  {
   "cell_type": "code",
   "execution_count": null,
   "id": "c306a14d",
   "metadata": {},
   "outputs": [],
   "source": [
    "model_compare.T.plot.bar(figsize=(4,6),color='salmon')\n",
    "plt.xlabel('Model Name')\n",
    "plt.ylabel('r^2 score')\n",
    "plt.xticks(rotation=0);"
   ]
  },
  {
   "cell_type": "markdown",
   "id": "bed7e5b8",
   "metadata": {},
   "source": [
    "As random forest Regressor has morre r^2 value, Therefore we will be using the random forest regressor."
   ]
  },
  {
   "cell_type": "code",
   "execution_count": null,
   "id": "c131da72",
   "metadata": {},
   "outputs": [],
   "source": [
    "np.random.seed(42)\n",
    "model = RandomForestRegressor().fit(X_train,y_train)"
   ]
  },
  {
   "cell_type": "code",
   "execution_count": null,
   "id": "6f714a50",
   "metadata": {},
   "outputs": [],
   "source": [
    "y_preds = model.predict(X_test)"
   ]
  },
  {
   "cell_type": "code",
   "execution_count": null,
   "id": "29c5e7a0",
   "metadata": {},
   "outputs": [],
   "source": [
    "#Model Evaluation\n",
    "r2_score(y_test,y_preds)"
   ]
  },
  {
   "cell_type": "code",
   "execution_count": null,
   "id": "0f73bac9",
   "metadata": {},
   "outputs": [],
   "source": [
    "mse(y_test,y_preds)"
   ]
  },
  {
   "cell_type": "code",
   "execution_count": null,
   "id": "6bf07e26",
   "metadata": {},
   "outputs": [],
   "source": []
  }
 ],
 "metadata": {
  "kernelspec": {
   "display_name": "Python 3 (ipykernel)",
   "language": "python",
   "name": "python3"
  },
  "language_info": {
   "codemirror_mode": {
    "name": "ipython",
    "version": 3
   },
   "file_extension": ".py",
   "mimetype": "text/x-python",
   "name": "python",
   "nbconvert_exporter": "python",
   "pygments_lexer": "ipython3",
   "version": "3.9.12"
  }
 },
 "nbformat": 4,
 "nbformat_minor": 5
}
